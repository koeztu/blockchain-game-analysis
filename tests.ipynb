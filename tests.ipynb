{
 "cells": [
  {
   "cell_type": "markdown",
   "metadata": {},
   "source": [
    "## Tests\n",
    "\n",
    "This notebook runs some tests to verify that our code is working as intended. It was used a lot during development to iron out bugs. It is important to note that testing in our case is not trivial. The best we can do is to check that the code works properly for games with $T=2$ and $T=3$ stages and trust in our ability to write code that generalizes to any number of stages. However, basic functionality like constructing and extending the blockchain is easily verified."
   ]
  },
  {
   "cell_type": "code",
   "execution_count": 1,
   "metadata": {},
   "outputs": [
    {
     "name": "stdout",
     "output_type": "stream",
     "text": [
      "importing Jupyter notebook from blockchain.ipynb\n",
      "importing Jupyter notebook from helper_functions.ipynb\n",
      "importing Jupyter notebook from payoff_matrix.ipynb\n"
     ]
    }
   ],
   "source": [
    "#IMPORTS\n",
    "#libraries\n",
    "import numpy as np\n",
    "import time\n",
    "import import_ipynb\n",
    "\n",
    "#notebooks\n",
    "import blockchain as bc\n",
    "import helper_functions as helfun\n",
    "import payoff_matrix as pm"
   ]
  },
  {
   "cell_type": "markdown",
   "metadata": {},
   "source": [
    "### Draw a Random Blockchain \n",
    "Print the miners, blocks, the blockchain, and the longest chain."
   ]
  },
  {
   "cell_type": "code",
   "execution_count": 6,
   "metadata": {},
   "outputs": [
    {
     "name": "stdout",
     "output_type": "stream",
     "text": [
      "seed: 994 \n",
      "\n",
      "miner 0 wins stages [2 3 4]\n",
      "miner 1 wins stages [1 5 6 7]\n",
      "\n",
      "block 1 mined by miner 1, parent is block 0\n",
      "block 2 mined by miner 0, parent is block 0\n",
      "block 3 mined by miner 0, parent is block 1\n",
      "block 4 mined by miner 0, parent is block 3\n",
      "block 5 mined by miner 1, parent is block 1\n",
      "block 6 mined by miner 1, parent is block 5\n",
      "block 7 mined by miner 1, parent is block 5\n",
      "\n",
      "b0\n",
      "├── b1\n",
      "│   ├── b3\n",
      "│   │   └── b4\n",
      "│   └── b5\n",
      "│       ├── b6\n",
      "│       └── b7\n",
      "└── b2\n",
      "\n",
      "longest chains [[0, 1, 3, 4], [0, 1, 5, 6], [0, 1, 5, 7]]\n"
     ]
    }
   ],
   "source": [
    "T = 7 #time horizon\n",
    "n = 2 #number of players\n",
    "\n",
    "#SET A SEED\n",
    "seed = int(np.random.randint(0, 1000, 1)[0])\n",
    "print(\"seed:\", seed, \"\\n\")\n",
    "np.random.seed(seed)\n",
    "\n",
    "#GENERATE A RANDOM VALID BLOCKCHAIN\n",
    "parents = helfun.pickParents(T, n)\n",
    "winners = helfun.pickWinners(T, n)\n",
    "\n",
    "B = bc.Blockchain(n, parents, winners) #build\n",
    "\n",
    "#PRINT THE MINERS\n",
    "B.printMiner(0)\n",
    "B.printMiner(1)\n",
    "print(\"\")\n",
    "\n",
    "#PRINT ALL BLOCKS\n",
    "for t in range(1, T+1): #for each element in the blockchain\n",
    "    B.sequence[t].printBlock()\n",
    "\n",
    "#DRAW THE BLOCKCHAIN USING TREELIB\n",
    "helfun.drawChain(B)\n",
    "print(\"longest chains\", B.longestchains)"
   ]
  },
  {
   "cell_type": "markdown",
   "metadata": {},
   "source": [
    "### Payoff Calculation"
   ]
  },
  {
   "cell_type": "code",
   "execution_count": 3,
   "metadata": {},
   "outputs": [
    {
     "name": "stdout",
     "output_type": "stream",
     "text": [
      "\n",
      "the number of blocks mined by miner 0 in the chain ending in...\n",
      "... block 1 is 0\n",
      "... block 2 is 1\n",
      "... block 3 is 1\n",
      "... block 4 is 2\n",
      "... block 5 is 0\n",
      "... block 6 is 0\n",
      "... block 7 is 0\n",
      "\n",
      "the number of blocks mined by miner 1 in the chain ending in...\n",
      "... block 1 is 1\n",
      "... block 2 is 0\n",
      "... block 3 is 1\n",
      "... block 4 is 1\n",
      "... block 5 is 2\n",
      "... block 6 is 3\n",
      "... block 7 is 3\n",
      "\n",
      "final expected payoff for miner 0 is 0.6666666666666666\n",
      "final expected payoff for miner 1 is 2.3333333333333335\n"
     ]
    }
   ],
   "source": [
    "#PRINT THE NUMBER OF BLOCKS EACH MINER MINED\n",
    "#we use the random blockchain generated above\n",
    "for m in range(2):\n",
    "    print(f\"\\nthe number of blocks mined by miner {m} in the chain ending in...\")\n",
    "    for t in range(1, T+1):\n",
    "        print(f\"... block {t} is {B.getPayoff(m, t)}\")\n",
    "print(\"\")\n",
    "\n",
    "#'TEST' THE FUNCTION 'finalExpectedPayoff()'\n",
    "#calculates the expected payoff at the end of the game BEFORE nature chooses a the 'winning' chain\n",
    "for m in range(2):\n",
    "    print(f\"final expected payoff for miner {m} is\", pm.finalExpectedPayoff(B, m))"
   ]
  },
  {
   "cell_type": "markdown",
   "metadata": {},
   "source": [
    "### Blockchain Extension\n",
    "Take the random blockchain from above and append a block to it. Then print the new blockchain."
   ]
  },
  {
   "cell_type": "code",
   "execution_count": 4,
   "metadata": {},
   "outputs": [
    {
     "name": "stdout",
     "output_type": "stream",
     "text": [
      "extended chain:\n",
      "miner 0 wins stages [2 3 4 8]\n",
      "miner 1 wins stages [1 5 6 7]\n",
      "\n",
      "b0\n",
      "├── b1\n",
      "│   ├── b3\n",
      "│   │   └── b4\n",
      "│   └── b5\n",
      "│       ├── b6\n",
      "│       └── b7\n",
      "│           └── b8\n",
      "└── b2\n",
      "\n"
     ]
    }
   ],
   "source": [
    "m = 0 #index of the miner who wins the next stage, arbitrarily chosen as '0'\n",
    "t = T #index of the block the winning miner mines at, also arbitrarily chosen as 'T'\n",
    "\n",
    "B_ext = bc.ExtendedBlockchain(B, m, t)\n",
    "\n",
    "print(\"extended chain:\")\n",
    "B_ext.printMiner(0)\n",
    "B_ext.printMiner(1)\n",
    "helfun.drawChain(B_ext)"
   ]
  },
  {
   "cell_type": "markdown",
   "metadata": {},
   "source": [
    "### Payoff Matrix and Strategies\n",
    "Print a payoff matrix and calculate the strategies for each player given that payoff matrix.\n",
    "\n",
    "This section was used extensively to verify that the payoff calculation works. We calculated payoffs for all situations in the two- and three-stage games manually (on paper), and subsequently checked if the code is able to verify our results. This process obviously took a lot of time. \n",
    "\n",
    "The reader may experiment with different blockchains. Some examples are given below for blockchains with two, three, and four blocks. More examples can be found in `main.ipynb`. Any payoff matrix can be calculated with relative ease. Please be aware that the program will take a considerable amount of time when $T$ is much larger than the number of blocks in the specified blockchain (i.e. when looking many stages into the future)."
   ]
  },
  {
   "cell_type": "code",
   "execution_count": 5,
   "metadata": {},
   "outputs": [
    {
     "name": "stdout",
     "output_type": "stream",
     "text": [
      "T = 4\n",
      "\n",
      "b0\n",
      "└── b1\n",
      "\n",
      "miner 0 wins stages [1]\n",
      "miner 1 wins stages []\n",
      "list of Nash equilibrium tuple(s) in stage 2: [(1, 1)]\n",
      "\n",
      "payoff matrix:\n",
      "\n",
      " [[[1.6875 1.1875]\n",
      "  [2.     1.5   ]]\n",
      "\n",
      " [[2.1875 1.1875]\n",
      "  [2.5    1.5   ]]]\n",
      "\n",
      " 0.2 seconds\n"
     ]
    }
   ],
   "source": [
    "#define variables\n",
    "T = 4 #time horizon of the game\n",
    "n = 2 #number of players, DO NOT CHANGE THIS!\n",
    "\n",
    "#EXAMPLES\n",
    "#BLOCKCHAIN WITH TWO BLOCKS\n",
    "parents = np.array([0])\n",
    "winners = np.array([0]) #miner 0 wins the first stage\n",
    "\n",
    "#BLOCKCHAIN WITH THREE BLOCKS\n",
    "#parents = np.array([0, 0]) #both blocks b1 and b2 are appended to the genesis block b0\n",
    "#winners = np.array([0, 1]) #miner 0 wins the first stage, miner 1 the second\n",
    "\n",
    "#BLOCKCHAIN WITH FOUR BLOCKS\n",
    "#parents = np.array([0, 0, 2]) #blocks b1 and b2 are appended to the genesis block b0, b3 is appended to b2\n",
    "#winners = np.array([0, 1, 1]) #miner 0 wins the first stage, miner 1 the second and third\n",
    "\n",
    "\n",
    "### ASSERTIONS ###\n",
    "assert winners.shape[0] == parents.shape[0], \"arrays 'parents' and 'winners' must be of same length\"\n",
    "t = len(parents) + 1 #current stage\n",
    "for s in range(t-1):\n",
    "    assert parents[s] < s+1, \"the parent of a block b_t must have a strictly lower index s < t\"\n",
    "\n",
    "\n",
    "print('T =', T)\n",
    "\n",
    "B = bc.Blockchain(n, parents, winners)\n",
    "helfun.drawChain(B)\n",
    "\n",
    "B.printMiner(0)\n",
    "B.printMiner(1)\n",
    "\n",
    "start = time.process_time()\n",
    "M = pm.intermediatePayoffMatrix(B, T, n)\n",
    "end = time.process_time()\n",
    "\n",
    "print(f\"list of Nash equilibrium tuple(s) in stage {t}:\", pm.getStrategies(B, T, n))\n",
    "print(\"\\npayoff matrix:\\n\\n\", M)\n",
    "print(\"\\n\", helfun.timeElapsed(start, end))\n",
    "\n"
   ]
  }
 ],
 "metadata": {
  "kernelspec": {
   "display_name": "Python 3 (ipykernel)",
   "language": "python",
   "name": "python3"
  },
  "language_info": {
   "codemirror_mode": {
    "name": "ipython",
    "version": 3
   },
   "file_extension": ".py",
   "mimetype": "text/x-python",
   "name": "python",
   "nbconvert_exporter": "python",
   "pygments_lexer": "ipython3",
   "version": "3.10.6"
  }
 },
 "nbformat": 4,
 "nbformat_minor": 2
}
