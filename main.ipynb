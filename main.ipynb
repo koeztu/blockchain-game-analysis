{
 "cells": [
  {
   "attachments": {},
   "cell_type": "markdown",
   "metadata": {},
   "source": [
    "# MAIN\n",
    "\n",
    "## NOTES FOR THE READER\n",
    "\n",
    "In all the Notebooks we follow the same conventions to make the code more readable.\n",
    "\n",
    "* Function arguments start with and underline (e.g. '_x'), while function internal variables do not (e.g. 'x'). This is useful because [...]\n",
    "* Often we simply write 'array', by this we mean Numpy arrays specifically.\n",
    "* It is important to know when we use lists and when we use arrays. The distinction will be made clear in the code's comments.\n",
    "* Contrary to the written report, we refer to the miners as miner $0$ and miner $1$ instead of miner $1$ and $2$. We do this to avoid ambiguity.\n",
    "* We make use of recursion. This is slow, but it is elegant and improves readability as well as comprehensibility.\n",
    "\n",
    "## THIS NOTEBOOK\n",
    "\n",
    "This notebook serves as a 'hub' for all the simulation outputs. The reader may refer to the other notebooks for the inner-workings of the simulations."
   ]
  },
  {
   "cell_type": "code",
   "execution_count": 3,
   "metadata": {},
   "outputs": [
    {
     "name": "stdout",
     "output_type": "stream",
     "text": [
      "importing Jupyter notebook from blockchain.ipynb\n",
      "importing Jupyter notebook from helper_functions.ipynb\n",
      "importing Jupyter notebook from payoff_matrix.ipynb\n",
      "importing Jupyter notebook from conjectures.ipynb\n",
      "\n",
      "### System Specifications ###\n",
      "System: Windows\n",
      "Architecture: X86_64\n",
      "CPU: Intel(R) Core(TM) i7-9700K CPU @ 3.60GHz\n",
      "CPU Cores: 8\n",
      "Memory: 31.92 Gigabytes\n",
      "\n",
      "### Versions ###\n",
      "Python 3.10.6\n",
      "Numpy 1.25.0\n"
     ]
    }
   ],
   "source": [
    "#IMPORTS\n",
    "#libraries\n",
    "import numpy as np\n",
    "import time\n",
    "import platform\n",
    "import psutil\n",
    "import cpuinfo #the package is called 'py-cpuinfo'\n",
    "import import_ipynb\n",
    "\n",
    "#notebooks\n",
    "import blockchain as bc\n",
    "import helper_functions as helfun\n",
    "import payoff_matrix as pm\n",
    "import conjectures\n",
    "\n",
    "#SYSTEM SPECIFICATIONS\n",
    "print(\"\\n### System Specifications ###\")\n",
    "print(\"System:\", platform.system()) #Linux\n",
    "print(\"Architecture:\", cpuinfo.get_cpu_info()[\"arch\"]) #x86_64\n",
    "print(\"CPU:\", cpuinfo.get_cpu_info()[\"brand_raw\"]) #Intel(R) Core(TM) i7-9700K CPU @ 3.60GHz\n",
    "print(\"CPU Cores:\", psutil.cpu_count(logical=True)) #8\n",
    "print(\"Memory:\", round(psutil.virtual_memory().total / (1024 ** 3), 2), \"Gigabytes\") #31.26 Gigabytes\n",
    "\n",
    "#VERSIONS\n",
    "print(\"\\n### Versions ###\")\n",
    "print(\"Python\", platform.python_version()) #3.10.6\n",
    "print(\"Numpy\", np.__version__) #1.24.2\n"
   ]
  },
  {
   "attachments": {},
   "cell_type": "markdown",
   "metadata": {},
   "source": [
    "### CONJECTURE"
   ]
  },
  {
   "cell_type": "code",
   "execution_count": 4,
   "metadata": {},
   "outputs": [
    {
     "name": "stdout",
     "output_type": "stream",
     "text": [
      "checked all situations for t = 2 and  T = 5\n",
      "checked all situations for t = 3 and  T = 5\n",
      "checked all situations for t = 4 and  T = 5\n",
      "checking the conjecture took 26.0 seconds\n"
     ]
    }
   ],
   "source": [
    "T = 5\n",
    "n = 2\n",
    "\n",
    "start = time.process_time()\n",
    "\n",
    "conjectures.Switching(T, n)\n",
    "\n",
    "end = time.process_time()\n",
    "print('checking the conjecture took', round((end - start), 1), \"seconds\")"
   ]
  },
  {
   "attachments": {},
   "cell_type": "markdown",
   "metadata": {},
   "source": [
    "### CONJECTURE"
   ]
  },
  {
   "cell_type": "code",
   "execution_count": 5,
   "metadata": {},
   "outputs": [
    {
     "name": "stdout",
     "output_type": "stream",
     "text": [
      "checked all situations for t = 2 and  T = 5\n",
      "checked all situations for t = 3 and  T = 5\n",
      "checked all situations for t = 4 and  T = 5\n",
      "checking the conjecture took 21.8 seconds\n"
     ]
    }
   ],
   "source": [
    "T = 5\n",
    "n = 2\n",
    "\n",
    "start = time.process_time()\n",
    "\n",
    "conjectures.FirstBlock(T, n)\n",
    "\n",
    "end = time.process_time()\n",
    "print('checking the conjecture took', round((end - start), 1), \"seconds\")"
   ]
  },
  {
   "attachments": {},
   "cell_type": "markdown",
   "metadata": {},
   "source": [
    "### CONJECTURE"
   ]
  },
  {
   "cell_type": "code",
   "execution_count": 6,
   "metadata": {},
   "outputs": [
    {
     "name": "stdout",
     "output_type": "stream",
     "text": [
      "checked all situations for t = 2 and  T = 5\n",
      "checked all situations for t = 3 and  T = 5\n",
      "checked all situations for t = 4 and  T = 5\n",
      "checking the conjecture took 29.7 seconds\n"
     ]
    }
   ],
   "source": [
    "T = 5\n",
    "n = 2\n",
    "\n",
    "start = time.process_time()\n",
    "\n",
    "conjectures.Monotonicity(T, n)\n",
    "\n",
    "end = time.process_time()\n",
    "print('checking the conjecture took', round((end - start), 1), \"seconds\")"
   ]
  },
  {
   "attachments": {},
   "cell_type": "markdown",
   "metadata": {},
   "source": [
    "### CONJECTURE"
   ]
  },
  {
   "cell_type": "code",
   "execution_count": 7,
   "metadata": {},
   "outputs": [
    {
     "name": "stdout",
     "output_type": "stream",
     "text": [
      "found?  False\n",
      "checking the conjecture took 18.6 seconds\n"
     ]
    }
   ],
   "source": [
    "T = 5\n",
    "n = 2\n",
    "\n",
    "start = time.process_time()\n",
    "\n",
    "#test all equilibrium paths for forks\n",
    "print('found? ', conjectures.Forks(T, n))\n",
    "\n",
    "end = time.process_time()\n",
    "print('checking the conjecture took', round((end - start), 1), \"seconds\")"
   ]
  },
  {
   "attachments": {},
   "cell_type": "markdown",
   "metadata": {},
   "source": [
    "### CONJECTURE"
   ]
  },
  {
   "cell_type": "code",
   "execution_count": 8,
   "metadata": {},
   "outputs": [
    {
     "name": "stdout",
     "output_type": "stream",
     "text": [
      "checked all situations for t = 2 and  T = 5\n",
      "checked all situations for t = 3 and  T = 5\n",
      "checked all situations for t = 4 and  T = 5\n",
      "checked all situations for t = 5 and  T = 5\n",
      "checking the conjecture took 24.9 seconds\n"
     ]
    }
   ],
   "source": [
    "T = 5\n",
    "n = 2\n",
    "\n",
    "start = time.process_time()\n",
    "\n",
    "conjectures.Coordination(T, n)\n",
    "\n",
    "end = time.process_time()\n",
    "print('checking the conjecture took', round((end - start), 1), \"seconds\")"
   ]
  }
 ],
 "metadata": {
  "kernelspec": {
   "display_name": "Python 3 (ipykernel)",
   "language": "python",
   "name": "python3"
  },
  "language_info": {
   "codemirror_mode": {
    "name": "ipython",
    "version": 3
   },
   "file_extension": ".py",
   "mimetype": "text/x-python",
   "name": "python",
   "nbconvert_exporter": "python",
   "pygments_lexer": "ipython3",
   "version": "3.10.6"
  },
  "orig_nbformat": 4
 },
 "nbformat": 4,
 "nbformat_minor": 2
}
